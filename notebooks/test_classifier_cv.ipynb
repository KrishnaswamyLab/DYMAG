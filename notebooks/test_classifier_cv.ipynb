{
 "cells": [
  {
   "cell_type": "code",
   "execution_count": 1,
   "metadata": {},
   "outputs": [],
   "source": [
    "import torch\n",
    "from torch_geometric.datasets import TUDataset\n",
    "from torch_geometric.data import Data\n",
    "from torch_geometric.loader import DataLoader\n",
    "from torch.utils.data import random_split\n",
    "from experiments.classifier import GraphClassifierTimeConv\n",
    "from experiments.train import train, test, cross_validate\n",
    "from torch.optim import Adam\n",
    "device = torch.device('cuda' if torch.cuda.is_available() else 'cpu')\n",
    "\n",
    "# Load the dataset\n",
    "dataset_name = \"ENZYMES\"\n",
    "path = \"./data/tmp/ENZYMES\"\n",
    "original_dataset = TUDataset(root=path, name=dataset_name, use_node_attr=True)\n",
    "\n",
    "# Function to add equal edge weights to a graph\n",
    "def add_edge_weights(data):\n",
    "    edge_index = data.edge_index\n",
    "    edge_weight = torch.ones(edge_index.shape[1], dtype=torch.float)\n",
    "    return Data(edge_index=edge_index, x=data.x, y=data.y, edge_weight=edge_weight)\n",
    "\n",
    "# Create a new dataset with added edge weights\n",
    "dataset = [add_edge_weights(data) for data in original_dataset]\n",
    "n_input = dataset[0].x.size(1)\n",
    "\n",
    "# Split the dataset into train and test sets\n",
    "# train_size = int(0.8 * len(dataset))  # 80% of the dataset for training\n",
    "# test_size = len(dataset) - train_size\n",
    "\n",
    "# train_dataset, test_dataset = random_split(dataset, [train_size, test_size])\n",
    "\n",
    "# Create DataLoaders for train and test sets\n",
    "# train_loader = DataLoader(train_dataset, batch_size=32, shuffle=True)\n",
    "# test_loader = DataLoader(test_dataset, batch_size=32, shuffle=False)"
   ]
  },
  {
   "cell_type": "code",
   "execution_count": 2,
   "metadata": {},
   "outputs": [],
   "source": [
    "ts = torch.linspace(0, 1, 20, dtype=torch.float, device=device)\n",
    "# Create your model, optimizer, and criterion\n",
    "model = GraphClassifierTimeConv(pde='heat', ts=ts, n_input=n_input, n_hidden=16, n_output=6, n_time_conv=5, n_time_pool=5, device=device).to(device)\n",
    "optimizer = Adam(model.parameters(), lr=1e-3)\n",
    "# criterion = CrossEntropyLoss()\n",
    "criterion = torch.nn.NLLLoss()\n",
    "\n",
    "# CV\n",
    "results_heat = cross_validate(\n",
    "    model, \n",
    "    dataset, \n",
    "    n_splits=5, \n",
    "    batch_size=1024, \n",
    "    num_epochs=1000, \n",
    "    lr=1e-3, \n",
    "    weight_decay=0., \n",
    "    device=device\n",
    ")"
   ]
  },
  {
   "cell_type": "code",
   "execution_count": 3,
   "metadata": {},
   "outputs": [],
   "source": [
    "ts = torch.linspace(0., torch.pi, 20, dtype=torch.float, device=device)\n",
    "# Create your model, optimizer, and criterion\n",
    "model = GraphClassifierTimeConv(pde='wave', ts=ts, n_input=n_input, n_hidden=16, n_output=6, n_time_conv=5, n_time_pool=5, device=device).to(device)\n",
    "optimizer = Adam(model.parameters(), lr=1e-3)\n",
    "# criterion = CrossEntropyLoss()\n",
    "criterion = torch.nn.NLLLoss()\n",
    "\n",
    "# CV\n",
    "results_wave = cross_validate(\n",
    "    model, \n",
    "    dataset, \n",
    "    n_splits=5, \n",
    "    batch_size=1024, \n",
    "    num_epochs=1000, \n",
    "    lr=1e-3, \n",
    "    weight_decay=0., \n",
    "    device=device\n",
    ")"
   ]
  },
  {
   "cell_type": "code",
   "execution_count": 9,
   "metadata": {},
   "outputs": [
    {
     "ename": "AttributeError",
     "evalue": "'GCNClassifier' object has no attribute 'reset_parameters'",
     "output_type": "error",
     "traceback": [
      "\u001b[0;31m---------------------------------------------------------------------------\u001b[0m",
      "\u001b[0;31mAttributeError\u001b[0m                            Traceback (most recent call last)",
      "Cell \u001b[0;32mIn[9], line 9\u001b[0m\n\u001b[1;32m      6\u001b[0m criterion \u001b[39m=\u001b[39m torch\u001b[39m.\u001b[39mnn\u001b[39m.\u001b[39mNLLLoss()\n\u001b[1;32m      8\u001b[0m \u001b[39m# CV\u001b[39;00m\n\u001b[0;32m----> 9\u001b[0m results_gcn \u001b[39m=\u001b[39m cross_validate(\n\u001b[1;32m     10\u001b[0m     model, \n\u001b[1;32m     11\u001b[0m     dataset, \n\u001b[1;32m     12\u001b[0m     n_splits\u001b[39m=\u001b[39;49m\u001b[39m5\u001b[39;49m, \n\u001b[1;32m     13\u001b[0m     batch_size\u001b[39m=\u001b[39;49m\u001b[39m1024\u001b[39;49m, \n\u001b[1;32m     14\u001b[0m     num_epochs\u001b[39m=\u001b[39;49m\u001b[39m1000\u001b[39;49m, \n\u001b[1;32m     15\u001b[0m     lr\u001b[39m=\u001b[39;49m\u001b[39m1e-3\u001b[39;49m, \n\u001b[1;32m     16\u001b[0m     weight_decay\u001b[39m=\u001b[39;49m\u001b[39m0.\u001b[39;49m, \n\u001b[1;32m     17\u001b[0m     device\u001b[39m=\u001b[39;49mdevice\n\u001b[1;32m     18\u001b[0m )\n",
      "File \u001b[0;32m/***/***/pi/***/***/Graph_expressivity/experiments/train.py:150\u001b[0m, in \u001b[0;36mcross_validate\u001b[0;34m(model, dataset, n_splits, batch_size, num_epochs, lr, weight_decay, device)\u001b[0m\n\u001b[1;32m    147\u001b[0m val_loader \u001b[39m=\u001b[39m DataListLoader(val_set, batch_size\u001b[39m=\u001b[39mbatch_size, shuffle\u001b[39m=\u001b[39m\u001b[39mFalse\u001b[39;00m)\n\u001b[1;32m    149\u001b[0m \u001b[39m# Reset the model weights and optimizer state\u001b[39;00m\n\u001b[0;32m--> 150\u001b[0m model\u001b[39m.\u001b[39;49mreset_parameters()\n\u001b[1;32m    151\u001b[0m optimizer \u001b[39m=\u001b[39m torch\u001b[39m.\u001b[39moptim\u001b[39m.\u001b[39mAdam(model\u001b[39m.\u001b[39mparameters(), lr\u001b[39m=\u001b[39mlr, weight_decay\u001b[39m=\u001b[39mweight_decay)\n\u001b[1;32m    152\u001b[0m criterion \u001b[39m=\u001b[39m torch\u001b[39m.\u001b[39mnn\u001b[39m.\u001b[39mCrossEntropyLoss()\n",
      "File \u001b[0;32m/***/***/pi/***/***/.conda_envs/pyg/lib/python3.9/site-packages/torch/nn/modules/module.py:1614\u001b[0m, in \u001b[0;36mModule.__getattr__\u001b[0;34m(self, name)\u001b[0m\n\u001b[1;32m   1612\u001b[0m     \u001b[39mif\u001b[39;00m name \u001b[39min\u001b[39;00m modules:\n\u001b[1;32m   1613\u001b[0m         \u001b[39mreturn\u001b[39;00m modules[name]\n\u001b[0;32m-> 1614\u001b[0m \u001b[39mraise\u001b[39;00m \u001b[39mAttributeError\u001b[39;00m(\u001b[39m\"\u001b[39m\u001b[39m'\u001b[39m\u001b[39m{}\u001b[39;00m\u001b[39m'\u001b[39m\u001b[39m object has no attribute \u001b[39m\u001b[39m'\u001b[39m\u001b[39m{}\u001b[39;00m\u001b[39m'\u001b[39m\u001b[39m\"\u001b[39m\u001b[39m.\u001b[39mformat(\n\u001b[1;32m   1615\u001b[0m     \u001b[39mtype\u001b[39m(\u001b[39mself\u001b[39m)\u001b[39m.\u001b[39m\u001b[39m__name__\u001b[39m, name))\n",
      "\u001b[0;31mAttributeError\u001b[0m: 'GCNClassifier' object has no attribute 'reset_parameters'"
     ]
    }
   ],
   "source": [
    "from experiments.gcn import GCNClassifier\n",
    "# Create your model, optimizer, and criterion\n",
    "model = GCNClassifier(num_features=n_input, hidden_channels=16, num_classes=6)\n",
    "optimizer = Adam(model.parameters(), lr=1e-3)\n",
    "# criterion = CrossEntropyLoss()\n",
    "criterion = torch.nn.NLLLoss()\n",
    "\n",
    "# CV\n",
    "results_gcn = cross_validate(\n",
    "    model, \n",
    "    dataset, \n",
    "    n_splits=5, \n",
    "    batch_size=1024, \n",
    "    num_epochs=1000, \n",
    "    lr=1e-3, \n",
    "    weight_decay=0., \n",
    "    device=device\n",
    ")"
   ]
  },
  {
   "cell_type": "code",
   "execution_count": 10,
   "metadata": {},
   "outputs": [
    {
     "data": {
      "text/html": [
       "<div>\n",
       "<style scoped>\n",
       "    .dataframe tbody tr th:only-of-type {\n",
       "        vertical-align: middle;\n",
       "    }\n",
       "\n",
       "    .dataframe tbody tr th {\n",
       "        vertical-align: top;\n",
       "    }\n",
       "\n",
       "    .dataframe thead th {\n",
       "        text-align: right;\n",
       "    }\n",
       "</style>\n",
       "<table border=\"1\" class=\"dataframe\">\n",
       "  <thead>\n",
       "    <tr style=\"text-align: right;\">\n",
       "      <th></th>\n",
       "      <th>fold</th>\n",
       "      <th>train_loss</th>\n",
       "      <th>train_accuracy</th>\n",
       "      <th>validation_loss</th>\n",
       "      <th>validation_accuracy</th>\n",
       "      <th>training_time</th>\n",
       "    </tr>\n",
       "  </thead>\n",
       "  <tbody>\n",
       "    <tr>\n",
       "      <th>0</th>\n",
       "      <td>0</td>\n",
       "      <td>1.115139</td>\n",
       "      <td>0.606250</td>\n",
       "      <td>1.596233</td>\n",
       "      <td>0.400000</td>\n",
       "      <td>76.438650</td>\n",
       "    </tr>\n",
       "    <tr>\n",
       "      <th>1</th>\n",
       "      <td>1</td>\n",
       "      <td>1.455811</td>\n",
       "      <td>0.416667</td>\n",
       "      <td>1.474891</td>\n",
       "      <td>0.416667</td>\n",
       "      <td>74.177841</td>\n",
       "    </tr>\n",
       "    <tr>\n",
       "      <th>2</th>\n",
       "      <td>2</td>\n",
       "      <td>1.423583</td>\n",
       "      <td>0.439583</td>\n",
       "      <td>1.567310</td>\n",
       "      <td>0.425000</td>\n",
       "      <td>74.710507</td>\n",
       "    </tr>\n",
       "    <tr>\n",
       "      <th>3</th>\n",
       "      <td>3</td>\n",
       "      <td>1.379605</td>\n",
       "      <td>0.485417</td>\n",
       "      <td>1.578432</td>\n",
       "      <td>0.450000</td>\n",
       "      <td>75.081440</td>\n",
       "    </tr>\n",
       "    <tr>\n",
       "      <th>4</th>\n",
       "      <td>4</td>\n",
       "      <td>1.364535</td>\n",
       "      <td>0.464583</td>\n",
       "      <td>1.546468</td>\n",
       "      <td>0.400000</td>\n",
       "      <td>76.879763</td>\n",
       "    </tr>\n",
       "  </tbody>\n",
       "</table>\n",
       "</div>"
      ],
      "text/plain": [
       "   fold  train_loss  train_accuracy  validation_loss  validation_accuracy  \\\n",
       "0     0    1.115139        0.606250         1.596233             0.400000   \n",
       "1     1    1.455811        0.416667         1.474891             0.416667   \n",
       "2     2    1.423583        0.439583         1.567310             0.425000   \n",
       "3     3    1.379605        0.485417         1.578432             0.450000   \n",
       "4     4    1.364535        0.464583         1.546468             0.400000   \n",
       "\n",
       "   training_time  \n",
       "0      76.438650  \n",
       "1      74.177841  \n",
       "2      74.710507  \n",
       "3      75.081440  \n",
       "4      76.879763  "
      ]
     },
     "execution_count": 10,
     "metadata": {},
     "output_type": "execute_result"
    }
   ],
   "source": [
    "results_heat"
   ]
  },
  {
   "cell_type": "code",
   "execution_count": 11,
   "metadata": {},
   "outputs": [
    {
     "data": {
      "text/html": [
       "<div>\n",
       "<style scoped>\n",
       "    .dataframe tbody tr th:only-of-type {\n",
       "        vertical-align: middle;\n",
       "    }\n",
       "\n",
       "    .dataframe tbody tr th {\n",
       "        vertical-align: top;\n",
       "    }\n",
       "\n",
       "    .dataframe thead th {\n",
       "        text-align: right;\n",
       "    }\n",
       "</style>\n",
       "<table border=\"1\" class=\"dataframe\">\n",
       "  <thead>\n",
       "    <tr style=\"text-align: right;\">\n",
       "      <th></th>\n",
       "      <th>fold</th>\n",
       "      <th>train_loss</th>\n",
       "      <th>train_accuracy</th>\n",
       "      <th>validation_loss</th>\n",
       "      <th>validation_accuracy</th>\n",
       "      <th>training_time</th>\n",
       "    </tr>\n",
       "  </thead>\n",
       "  <tbody>\n",
       "    <tr>\n",
       "      <th>0</th>\n",
       "      <td>0</td>\n",
       "      <td>1.051520</td>\n",
       "      <td>0.593750</td>\n",
       "      <td>1.615675</td>\n",
       "      <td>0.391667</td>\n",
       "      <td>137.646448</td>\n",
       "    </tr>\n",
       "    <tr>\n",
       "      <th>1</th>\n",
       "      <td>1</td>\n",
       "      <td>1.249877</td>\n",
       "      <td>0.522917</td>\n",
       "      <td>1.410082</td>\n",
       "      <td>0.500000</td>\n",
       "      <td>129.069187</td>\n",
       "    </tr>\n",
       "    <tr>\n",
       "      <th>2</th>\n",
       "      <td>2</td>\n",
       "      <td>1.351893</td>\n",
       "      <td>0.468750</td>\n",
       "      <td>4.014776</td>\n",
       "      <td>0.358333</td>\n",
       "      <td>129.899353</td>\n",
       "    </tr>\n",
       "    <tr>\n",
       "      <th>3</th>\n",
       "      <td>3</td>\n",
       "      <td>1.417571</td>\n",
       "      <td>0.427083</td>\n",
       "      <td>1.561825</td>\n",
       "      <td>0.433333</td>\n",
       "      <td>130.069394</td>\n",
       "    </tr>\n",
       "    <tr>\n",
       "      <th>4</th>\n",
       "      <td>4</td>\n",
       "      <td>1.526214</td>\n",
       "      <td>0.406250</td>\n",
       "      <td>1.670260</td>\n",
       "      <td>0.425000</td>\n",
       "      <td>130.660377</td>\n",
       "    </tr>\n",
       "  </tbody>\n",
       "</table>\n",
       "</div>"
      ],
      "text/plain": [
       "   fold  train_loss  train_accuracy  validation_loss  validation_accuracy  \\\n",
       "0     0    1.051520        0.593750         1.615675             0.391667   \n",
       "1     1    1.249877        0.522917         1.410082             0.500000   \n",
       "2     2    1.351893        0.468750         4.014776             0.358333   \n",
       "3     3    1.417571        0.427083         1.561825             0.433333   \n",
       "4     4    1.526214        0.406250         1.670260             0.425000   \n",
       "\n",
       "   training_time  \n",
       "0     137.646448  \n",
       "1     129.069187  \n",
       "2     129.899353  \n",
       "3     130.069394  \n",
       "4     130.660377  "
      ]
     },
     "execution_count": 11,
     "metadata": {},
     "output_type": "execute_result"
    }
   ],
   "source": [
    "results_wave"
   ]
  },
  {
   "cell_type": "code",
   "execution_count": 12,
   "metadata": {},
   "outputs": [
    {
     "data": {
      "text/plain": [
       "0.41833333333333333"
      ]
     },
     "execution_count": 12,
     "metadata": {},
     "output_type": "execute_result"
    }
   ],
   "source": [
    "results_heat.validation_accuracy.mean()"
   ]
  },
  {
   "cell_type": "code",
   "execution_count": 13,
   "metadata": {},
   "outputs": [
    {
     "data": {
      "text/plain": [
       "0.02074983266331455"
      ]
     },
     "execution_count": 13,
     "metadata": {},
     "output_type": "execute_result"
    }
   ],
   "source": [
    "results_heat.validation_accuracy.std()"
   ]
  },
  {
   "cell_type": "code",
   "execution_count": 14,
   "metadata": {},
   "outputs": [
    {
     "data": {
      "text/plain": [
       "0.4216666666666667"
      ]
     },
     "execution_count": 14,
     "metadata": {},
     "output_type": "execute_result"
    }
   ],
   "source": [
    "results_wave.validation_accuracy.mean()"
   ]
  },
  {
   "cell_type": "code",
   "execution_count": 15,
   "metadata": {},
   "outputs": [
    {
     "data": {
      "text/plain": [
       "0.052901900827012925"
      ]
     },
     "execution_count": 15,
     "metadata": {},
     "output_type": "execute_result"
    }
   ],
   "source": [
    "results_wave.validation_accuracy.std()"
   ]
  },
  {
   "cell_type": "code",
   "execution_count": null,
   "metadata": {},
   "outputs": [],
   "source": []
  }
 ],
 "metadata": {
  "kernelspec": {
   "display_name": "pyg",
   "language": "python",
   "name": "python3"
  },
  "language_info": {
   "codemirror_mode": {
    "name": "ipython",
    "version": 3
   },
   "file_extension": ".py",
   "mimetype": "text/x-python",
   "name": "python",
   "nbconvert_exporter": "python",
   "pygments_lexer": "ipython3",
   "version": "3.9.16"
  },
  "orig_nbformat": 4
 },
 "nbformat": 4,
 "nbformat_minor": 2
}
