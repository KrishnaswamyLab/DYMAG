{
 "cells": [
  {
   "cell_type": "code",
   "execution_count": 1,
   "metadata": {},
   "outputs": [],
   "source": [
    "import numpy as np\n",
    "import networkx as nx\n",
    "import torch\n",
    "import matplotlib.pyplot as plt\n",
    "from torch import nn\n",
    "from torch_geometric.nn import MessagePassing\n",
    "from torch_geometric.utils import degree, get_laplacian, from_networkx, from_scipy_sparse_matrix\n",
    "device = torch.device(\"cuda:0\" if torch.cuda.is_available() else \"cpu\")"
   ]
  },
  {
   "cell_type": "code",
   "execution_count": 2,
   "metadata": {},
   "outputs": [],
   "source": [
    "def edge_index_to_adjacency(edge_index, edge_weight, num_nodes):\n",
    "    adjacency_matrix = torch.zeros((num_nodes, num_nodes))\n",
    "    adjacency_matrix[edge_index[0], edge_index[1]] = edge_weight\n",
    "    adjacency_matrix[edge_index[1], edge_index[0]] = edge_weight  # For undirected graph\n",
    "    return adjacency_matrix"
   ]
  },
  {
   "cell_type": "code",
   "execution_count": 3,
   "metadata": {},
   "outputs": [
    {
     "data": {
      "image/png": "[encoded data removed]",
      "text/plain": [
       "<Figure size 640x480 with 1 Axes>"
      ]
     },
     "metadata": {},
     "output_type": "display_data"
    }
   ],
   "source": [
    "# Create an empty undirected graph\n",
    "G = nx.Graph()\n",
    "\n",
    "# Add nodes to the graph\n",
    "G.add_nodes_from([0, 1, 2, 3, 4])\n",
    "\n",
    "# Add weighted edges to the graph\n",
    "G.add_weighted_edges_from([(0, 1, 0.5), (1, 2, 0.7), (1, 3, 0.6), (2, 3, 0.9), (3, 4, 0.2)])\n",
    "\n",
    "# Visualize the graph with labels\n",
    "pos = nx.spring_layout(G)\n",
    "nx.draw(G, pos, with_labels=True, node_size=800, node_color='lightblue')\n",
    "labels = nx.get_edge_attributes(G, 'weight')\n",
    "nx.draw_networkx_edge_labels(G, pos, edge_labels=labels)\n",
    "\n",
    "# Show the plot\n",
    "plt.show()\n",
    "\n",
    "laplacian_mat = nx.normalized_laplacian_matrix(G).tocsc()"
   ]
  },
  {
   "cell_type": "markdown",
   "metadata": {},
   "source": [
    "## test laplacian"
   ]
  },
  {
   "cell_type": "code",
   "execution_count": 4,
   "metadata": {},
   "outputs": [],
   "source": [
    "graphinfo = from_networkx(G)\n",
    "edge_index, edge_weight = graphinfo.edge_index, graphinfo.weight\n",
    "laplacian_edge_index, laplacian_edge_weight = get_laplacian(edge_index, edge_weight, normalization='sym')"
   ]
  },
  {
   "cell_type": "code",
   "execution_count": 5,
   "metadata": {},
   "outputs": [],
   "source": [
    "lapl = edge_index_to_adjacency(laplacian_edge_index, laplacian_edge_weight, graphinfo.num_nodes)"
   ]
  },
  {
   "cell_type": "code",
   "execution_count": 6,
   "metadata": {},
   "outputs": [
    {
     "data": {
      "text/plain": [
       "tensor([[ 1.0000, -0.5270,  0.0000,  0.0000,  0.0000],\n",
       "        [-0.5270,  1.0000, -0.4125, -0.3430,  0.0000],\n",
       "        [ 0.0000, -0.4125,  1.0000, -0.5457,  0.0000],\n",
       "        [ 0.0000, -0.3430, -0.5457,  1.0000, -0.3430],\n",
       "        [ 0.0000,  0.0000,  0.0000, -0.3430,  1.0000]])"
      ]
     },
     "execution_count": 6,
     "metadata": {},
     "output_type": "execute_result"
    }
   ],
   "source": [
    "lapl"
   ]
  },
  {
   "cell_type": "code",
   "execution_count": 7,
   "metadata": {},
   "outputs": [
    {
     "data": {
      "text/plain": [
       "array([[ 1.        , -0.52704628,  0.        ,  0.        ,  0.        ],\n",
       "       [-0.52704628,  1.        , -0.41247896, -0.34299717,  0.        ],\n",
       "       [ 0.        , -0.41247896,  1.        , -0.54570516,  0.        ],\n",
       "       [ 0.        , -0.34299717, -0.54570516,  1.        , -0.34299717],\n",
       "       [ 0.        ,  0.        ,  0.        , -0.34299717,  1.        ]])"
      ]
     },
     "execution_count": 7,
     "metadata": {},
     "output_type": "execute_result"
    }
   ],
   "source": [
    "laplacian_mat.toarray()"
   ]
  },
  {
   "cell_type": "code",
   "execution_count": 8,
   "metadata": {},
   "outputs": [
    {
     "data": {
      "text/plain": [
       "array([[-2.22044605e-16, -1.34768038e-08,  0.00000000e+00,\n",
       "         0.00000000e+00,  0.00000000e+00],\n",
       "       [-1.34768038e-08, -1.11022302e-16, -2.09222284e-09,\n",
       "        -6.75085321e-09,  0.00000000e+00],\n",
       "       [ 0.00000000e+00, -3.18945452e-08,  0.00000000e+00,\n",
       "        -1.66947557e-08,  0.00000000e+00],\n",
       "       [ 0.00000000e+00, -6.75085321e-09, -1.66947557e-08,\n",
       "         0.00000000e+00,  2.30514691e-08],\n",
       "       [ 0.00000000e+00,  0.00000000e+00,  0.00000000e+00,\n",
       "         2.30514691e-08,  2.22044605e-16]])"
      ]
     },
     "execution_count": 8,
     "metadata": {},
     "output_type": "execute_result"
    }
   ],
   "source": [
    "laplacian_mat.toarray() - lapl.numpy()"
   ]
  },
  {
   "attachments": {},
   "cell_type": "markdown",
   "metadata": {},
   "source": [
    "## test matrix-vector multiplication via message passing"
   ]
  },
  {
   "cell_type": "code",
   "execution_count": 9,
   "metadata": {},
   "outputs": [],
   "source": [
    "class MatVecMult(MessagePassing):\n",
    "    \"\"\"\n",
    "    Chebyshev polynomials as a custom message passing layer.\n",
    "    need another layer to do the aggregation.\n",
    "    the normalized laplacian computation is handled as a normalization.\n",
    "    \"\"\"\n",
    "    def __init__(self, edge_index, edge_weight):\n",
    "        \"\"\"computes the graph laplacian, ?as well as the basis matrix for the Chebyshev polynomials.\n",
    "\n",
    "        Args:\n",
    "            edge_index (tensor): shape (2, E). E is number of edges.\n",
    "            edge_weight (tensor, optional): shape (E, ).\n",
    "        \"\"\"\n",
    "        super().__init__(aggr=\"add\", node_dim=-3)  # \"Add\" aggregation.\n",
    "        self.edge_index = edge_index\n",
    "        self.edge_weight = edge_weight\n",
    "        ## using symmetrically normalized laplacian so that the eigenvalues are within [0, 2]\n",
    "        ## see https://math.stackexchange.com/questions/2511544/largest-eigenvalue-of-a-normalized-graph-laplacian\n",
    "        self.laplacian_edge_index, self.laplacian_edge_weight = get_laplacian(\n",
    "            self.edge_index, self.edge_weight, normalization='sym')\n",
    "\n",
    "    def forward(self, x):\n",
    "        \"\"\"_summary_\n",
    "\n",
    "        Args:\n",
    "            x (tensor): shape (n, *, *). n is number of nodes.\n",
    "\n",
    "\n",
    "        Returns:\n",
    "            tensor: shape (n, *, *).\n",
    "        \"\"\"\n",
    "        return self.propagate(edge_index=self.laplacian_edge_index, x=x, edge_weight=self.laplacian_edge_weight)\n",
    "\n",
    "    def message(self, x_j):\n",
    "        # x_j has shape [E, out_channels]\n",
    "        # Step 4: Normalize node features.\n",
    "        return self.laplacian_edge_weight.view(-1, 1, 1) * x_j\n",
    "\n",
    "    def update(self, aggr_out):\n",
    "        # aggr_out has shape [N, out_channels]\n",
    "        # Step 6: Return new node embeddings.\n",
    "        return aggr_out"
   ]
  },
  {
   "cell_type": "code",
   "execution_count": 10,
   "metadata": {},
   "outputs": [],
   "source": [
    "x = torch.rand(5, 1, 1)"
   ]
  },
  {
   "cell_type": "code",
   "execution_count": 11,
   "metadata": {},
   "outputs": [
    {
     "data": {
      "text/plain": [
       "tensor([-0.2426,  0.1426,  0.2026, -0.2063, -0.0158])"
      ]
     },
     "execution_count": 11,
     "metadata": {},
     "output_type": "execute_result"
    }
   ],
   "source": [
    "lapl @ x.squeeze()"
   ]
  },
  {
   "cell_type": "code",
   "execution_count": 12,
   "metadata": {},
   "outputs": [
    {
     "data": {
      "text/plain": [
       "tensor([-0.2426,  0.1426,  0.2026, -0.2063, -0.0158])"
      ]
     },
     "execution_count": 12,
     "metadata": {},
     "output_type": "execute_result"
    }
   ],
   "source": [
    "multer = MatVecMult(edge_index, edge_weight)\n",
    "multer(x).squeeze()"
   ]
  },
  {
   "attachments": {},
   "cell_type": "markdown",
   "metadata": {},
   "source": [
    "## Test cheby coefs"
   ]
  },
  {
   "cell_type": "code",
   "execution_count": 13,
   "metadata": {},
   "outputs": [],
   "source": [
    "def get_cheby_coefs(func, degree, N=1000):\n",
    "    \"\"\"\n",
    "    get the Chebyshev polynomial coefficients of the function.\n",
    "\n",
    "    Args:\n",
    "        func (function): the function to be integrated.\n",
    "        degree (int): the degree of the Chebyshev polynomials. (the min power is 0, the max power is degree - 1)\n",
    "        a (float): the lower bound of the integration.\n",
    "        b (float): the upper bound of the integration.\n",
    "        N (int, optional): the number of points to be used in the integration. Defaults to 1000.\n",
    "\n",
    "    Returns:\n",
    "        tensor: shape (k, ). the coefficients of the Chebyshev polynomials.\n",
    "    \n",
    "    Note:\n",
    "        see https://en.wikipedia.org/wiki/Chebyshev_polynomials#Orthogonality for the formula for computing the coefficients.\n",
    "    \"\"\"\n",
    "    ks = torch.arange(N)\n",
    "    xks = torch.cos(torch.pi * (ks + 0.5) / (N)) + 1 ## reparameterize from [-1, 1] to [0, 2]\n",
    "    ns = torch.arange(degree).unsqueeze(-1)\n",
    "    Tn_xks = torch.cos(ns * torch.pi * (ks + 0.5) / (N)) ## shape (degree, N)\n",
    "    func_xks = func(xks) ## shape (N,)\n",
    "    coefs = (2 * Tn_xks * func_xks).mean(axis=1) ## shape (degree,)\n",
    "    coefs[0] /= 2\n",
    "    # return coefs.squeeze() ## TODO test shape of coefs before squeeze.\n",
    "    return coefs"
   ]
  },
  {
   "cell_type": "code",
   "execution_count": 14,
   "metadata": {},
   "outputs": [],
   "source": [
    "def fit_coef(func, alpha, deg, n=1000):\n",
    "    \"\"\"\n",
    "    fit the coefficients of the chebyshev polynomials\n",
    "\n",
    "    Args:\n",
    "        func: the function to fit\n",
    "        alpha: the domain of func is [0, 2*alpha]\n",
    "        deg: the degree of the polynomial\n",
    "        n: the number of points to sample\n",
    "\n",
    "    Returns:\n",
    "        the coefficients of the chebyshev polynomials\n",
    "    \"\"\"    \n",
    "    thetas = torch.linspace(0, torch.pi, n).reshape(1, -1)\n",
    "    ks = torch.arange(deg).reshape(-1, 1)\n",
    "    cs = (torch.cos(ks * thetas) * func(alpha * (torch.cos(thetas) + 1))).mean(axis=1) * 2\n",
    "    return cs"
   ]
  },
  {
   "cell_type": "code",
   "execution_count": 15,
   "metadata": {},
   "outputs": [],
   "source": [
    "func = lambda x: np.exp(-3 * x)\n",
    "coefs1 = get_cheby_coefs(func, degree=10)\n",
    "coefs2 = fit_coef(func, alpha=1., deg=10)"
   ]
  },
  {
   "cell_type": "code",
   "execution_count": 16,
   "metadata": {},
   "outputs": [
    {
     "data": {
      "text/plain": [
       "tensor([ 2.4300e-01, -3.9365e-01,  2.2357e-01, -9.5567e-02,  3.2432e-02,\n",
       "        -9.0819e-03,  2.1591e-03, -4.4543e-04,  8.1080e-05, -1.3185e-05])"
      ]
     },
     "execution_count": 16,
     "metadata": {},
     "output_type": "execute_result"
    }
   ],
   "source": [
    "coefs1"
   ]
  },
  {
   "cell_type": "code",
   "execution_count": 17,
   "metadata": {},
   "outputs": [
    {
     "data": {
      "text/plain": [
       "tensor([ 0.4865, -0.3943,  0.2243, -0.0965,  0.0334, -0.0101,  0.0032, -0.0014,\n",
       "         0.0011, -0.0010])"
      ]
     },
     "execution_count": 17,
     "metadata": {},
     "output_type": "execute_result"
    }
   ],
   "source": [
    "coefs2"
   ]
  },
  {
   "attachments": {},
   "cell_type": "markdown",
   "metadata": {},
   "source": [
    "## test cheby eval"
   ]
  },
  {
   "cell_type": "code",
   "execution_count": 18,
   "metadata": {},
   "outputs": [],
   "source": [
    "class ChebyLayer(MessagePassing):\n",
    "    \"\"\"\n",
    "    Chebyshev polynomials as a custom message passing layer.\n",
    "    need another layer to do the aggregation.\n",
    "    the normalized laplacian computation is handled as a normalization.\n",
    "    \"\"\"\n",
    "    def __init__(self, edge_index, edge_weight):\n",
    "        \"\"\"computes the graph laplacian, ?as well as the basis matrix for the Chebyshev polynomials.\n",
    "\n",
    "        Args:\n",
    "            edge_index (tensor): shape (2, E). E is number of edges.\n",
    "            edge_weight (tensor, optional): shape (E, ).\n",
    "        \"\"\"\n",
    "        super().__init__(aggr=\"add\", node_dim=-3)  # \"Add\" aggregation.\n",
    "        self.edge_index = edge_index\n",
    "        self.edge_weight = edge_weight\n",
    "        ## using symmetrically normalized laplacian so that the eigenvalues are within [0, 2]\n",
    "        ## see https://math.stackexchange.com/questions/2511544/largest-eigenvalue-of-a-normalized-graph-laplacian\n",
    "        self.laplacian_edge_index, self.laplacian_edge_weight = get_laplacian(\n",
    "            self.edge_index, self.edge_weight, normalization='sym')\n",
    "\n",
    "    def forward(self, x, coefs, t=None):\n",
    "        \"\"\"Evaluate the chebyshev polynomials through recursive message passing.\n",
    "\n",
    "        Args:\n",
    "            x (tensor): shape (n, *, *). n is number of nodes.\n",
    "            coefs (tensor): shape (k). k is the degree of the chebyshev polynomials.\n",
    "            t (tensor): shape (T, ). T is the number of time points. t is the sample times.\n",
    "\n",
    "        Returns:\n",
    "            tensor: shape (n, *, *).\n",
    "        \"\"\"\n",
    "        k = len(coefs)\n",
    "        assert  k > 2\n",
    "        T0 = x\n",
    "        out = coefs[0] * T0\n",
    "        T1 = self.propagate(edge_index=self.laplacian_edge_index, x=x, edge_weight=self.laplacian_edge_weight)\n",
    "        out += coefs[1] * T1\n",
    "\n",
    "        for i in range(2, k):\n",
    "            T2 = 2 * self.propagate(edge_index=self.laplacian_edge_index, x=T1, edge_weight=self.laplacian_edge_weight) - T0\n",
    "            out += coefs[i] * T2\n",
    "            T0, T1 = T1, T2\n",
    "\n",
    "        return out\n",
    "        # return self.propagate(edge_index=self.laplacian_edge_index, x=x, edge_weight=self.laplacian_edge_weight)\n",
    "\n",
    "    def message(self, x_j):\n",
    "        # x_j has shape [E, out_channels]\n",
    "        # Step 4: Normalize node features.\n",
    "        return self.laplacian_edge_weight.view(-1, 1, 1) * x_j\n",
    "\n",
    "    def update(self, aggr_out, x):\n",
    "        # aggr_out has shape [N, out_channels]\n",
    "        # Step 6: Return new node embeddings.\n",
    "        return aggr_out - x ## reparameterize lambda to range (-1, 1) (L_tilde = L - I, so L_tilde x = L x - x)"
   ]
  },
  {
   "cell_type": "code",
   "execution_count": 19,
   "metadata": {},
   "outputs": [],
   "source": [
    "cheb = ChebyLayer(edge_index, edge_weight)\n",
    "y1 = cheb(x, coefs1).squeeze()"
   ]
  },
  {
   "cell_type": "code",
   "execution_count": 20,
   "metadata": {},
   "outputs": [],
   "source": [
    "lam, V = np.linalg.eigh(laplacian_mat.toarray())\n",
    "M2 = V @ np.diag(np.exp(- 3 * lam)) @ V.T \n",
    "y2 = M2 @ x.squeeze().numpy()"
   ]
  },
  {
   "cell_type": "code",
   "execution_count": 21,
   "metadata": {},
   "outputs": [],
   "source": [
    "M3 = torch.linalg.matrix_exp(-3 * torch.tensor(laplacian_mat.toarray()).float())\n",
    "y3 = M3 @ x.squeeze()"
   ]
  },
  {
   "cell_type": "code",
   "execution_count": 22,
   "metadata": {},
   "outputs": [
    {
     "data": {
      "text/plain": [
       "tensor([0.3475, 0.6768, 0.6485, 0.6639, 0.2236])"
      ]
     },
     "execution_count": 22,
     "metadata": {},
     "output_type": "execute_result"
    }
   ],
   "source": [
    "y1"
   ]
  },
  {
   "cell_type": "code",
   "execution_count": 23,
   "metadata": {},
   "outputs": [
    {
     "data": {
      "text/plain": [
       "array([0.34751272, 0.67683191, 0.64850767, 0.66386158, 0.22359572])"
      ]
     },
     "execution_count": 23,
     "metadata": {},
     "output_type": "execute_result"
    }
   ],
   "source": [
    "y2"
   ]
  },
  {
   "cell_type": "code",
   "execution_count": 24,
   "metadata": {},
   "outputs": [
    {
     "data": {
      "text/plain": [
       "tensor([0.3475, 0.6768, 0.6485, 0.6639, 0.2236])"
      ]
     },
     "execution_count": 24,
     "metadata": {},
     "output_type": "execute_result"
    }
   ],
   "source": [
    "y3"
   ]
  },
  {
   "cell_type": "code",
   "execution_count": 25,
   "metadata": {},
   "outputs": [
    {
     "data": {
      "text/plain": [
       "tensor([-6.8545e-07, -8.9407e-07, -9.5367e-07, -1.3113e-06, -5.8115e-07])"
      ]
     },
     "execution_count": 25,
     "metadata": {},
     "output_type": "execute_result"
    }
   ],
   "source": [
    "y1 - y3"
   ]
  },
  {
   "cell_type": "markdown",
   "metadata": {},
   "source": [
    "## Test Multiple time points"
   ]
  },
  {
   "cell_type": "code",
   "execution_count": 26,
   "metadata": {},
   "outputs": [],
   "source": [
    "class ChebyLayer(MessagePassing):\n",
    "    \"\"\"\n",
    "    Chebyshev polynomials as a custom message passing layer.\n",
    "    need another layer to do the aggregation.\n",
    "    the normalized laplacian computation is handled as a normalization.\n",
    "    \"\"\"\n",
    "    def __init__(self, edge_index, edge_weight):\n",
    "        \"\"\"computes the graph laplacian, ?as well as the basis matrix for the Chebyshev polynomials.\n",
    "\n",
    "        Args:\n",
    "            edge_index (tensor): shape (2, E). E is number of edges.\n",
    "            edge_weight (tensor, optional): shape (E, ).\n",
    "        \"\"\"\n",
    "        super().__init__(aggr=\"add\", node_dim=-3)  # \"Add\" aggregation.\n",
    "        self.edge_index = edge_index\n",
    "        self.edge_weight = edge_weight\n",
    "        ## using symmetrically normalized laplacian so that the eigenvalues are within [0, 2]\n",
    "        ## see https://math.stackexchange.com/questions/2511544/largest-eigenvalue-of-a-normalized-graph-laplacian\n",
    "        self.laplacian_edge_index, self.laplacian_edge_weight = get_laplacian(\n",
    "            self.edge_index, self.edge_weight, normalization='sym')\n",
    "\n",
    "    def forward(self, x, coefs):\n",
    "        \"\"\"Evaluate the chebyshev polynomials through recursive message passing.\n",
    "        coefs is 2 dimentional with the first dimension to be time points.\n",
    "\n",
    "        Args:\n",
    "            x (tensor): shape (n, *, *). n is number of nodes.\n",
    "            coefs (tensor): shape (T, k). \n",
    "                k is the degree of the chebyshev polynomials.\n",
    "                T is the number of time points. t is the sample times.\n",
    "\n",
    "        Returns:\n",
    "            tensor: shape (T, n, *, *).\n",
    "        \"\"\"\n",
    "        k = coefs.size(1)\n",
    "        assert  k > 2\n",
    "        T0 = x\n",
    "        out = coefs[:, 0].view(-1, 1, 1, 1) * T0\n",
    "        T1 = self.propagate(edge_index=self.laplacian_edge_index, x=x, edge_weight=self.laplacian_edge_weight)\n",
    "        out += coefs[:, 1].view(-1, 1, 1, 1) * T1\n",
    "\n",
    "        for i in range(2, k):\n",
    "            T2 = 2 * self.propagate(edge_index=self.laplacian_edge_index, x=T1, edge_weight=self.laplacian_edge_weight) - T0\n",
    "            out += coefs[:, i].view(-1, 1, 1, 1) * T2\n",
    "            T0, T1 = T1, T2\n",
    "\n",
    "        return out\n",
    "        # return self.propagate(edge_index=self.laplacian_edge_index, x=x, edge_weight=self.laplacian_edge_weight)\n",
    "\n",
    "    def message(self, x_j):\n",
    "        # x_j has shape [E, out_channels]\n",
    "        # Step 4: Normalize node features.\n",
    "        return self.laplacian_edge_weight.view(-1, 1, 1) * x_j\n",
    "\n",
    "    def update(self, aggr_out, x):\n",
    "        # aggr_out has shape [N, out_channels]\n",
    "        # Step 6: Return new node embeddings.\n",
    "        return aggr_out - x ## reparameterize lambda to range (-1, 1) (L_tilde = L - I, so L_tilde x = L x - x)\n",
    "    \n",
    "def get_cheby_coefs(func, ts, degree, N=1000):\n",
    "    \"\"\"\n",
    "    get the Chebyshev polynomial coefficients of the function.\n",
    "\n",
    "    Args:\n",
    "        func (function): the function to be integrated.\n",
    "            f(t, lam) has two parameters:\n",
    "            t is the time point, and lam is the eigenvalue of the laplacian matrix\n",
    "        ts (tensor): shape (T, ). the sample time points.\n",
    "        degree (int): the degree of the Chebyshev polynomials. (the min power is 0, the max power is degree - 1)\n",
    "        N (int, optional): the number of points to be used in the integration. Defaults to 1000.\n",
    "\n",
    "    Returns:\n",
    "        tensor: shape (T, k). the coefficients of the Chebyshev polynomials.\n",
    "    \n",
    "    Note:\n",
    "        see https://en.wikipedia.org/wiki/Chebyshev_polynomials#Orthogonality for the formula for computing the coefficients.\n",
    "    \"\"\"\n",
    "    ks = torch.arange(N)\n",
    "    xks = torch.cos(torch.pi * (ks + 0.5) / (N)) + 1 ## reparameterize from [-1, 1] to [0, 2]\n",
    "    ns = torch.arange(degree).unsqueeze(-1)\n",
    "    Tn_xks = torch.cos(ns * torch.pi * (ks + 0.5) / (N)) ## shape (degree, N)\n",
    "    func_xks = func(ts, xks) ## shape (T, N)\n",
    "    coefs = (2 * Tn_xks.unsqueeze(0) * func_xks.unsqueeze(1)).mean(axis=-1) ## shape (T, degree)\n",
    "    coefs[:, 0] /= 2\n",
    "    return coefs\n",
    "\n",
    "def heat_eqn_oper(t, lam):\n",
    "    \"\"\"\n",
    "    the function of the heat equation solution.\n",
    "\n",
    "    Args:\n",
    "        t (tensor): shape (T, ). the time points.\n",
    "        lam (tensor): shape (N, ). the sampled points of eigenvalues of the laplacian matrix.\n",
    "\n",
    "    Returns:\n",
    "        tensor: shape (T, N). the wave equation solution result for each time t and each sample point of the eigenvalues.\n",
    "    \"\"\"\n",
    "    return torch.exp(- t.view(-1, 1) * lam)\n",
    "\n",
    "def wave_eqn_oper_x(t, lam):\n",
    "    \"\"\"\n",
    "    the function for computing the wave equation solution's operator on x (initial position) cos(sqrt(lam) * t)\n",
    "\n",
    "    Args:\n",
    "        t (tensor): shape (T, ). the time points.\n",
    "        lam (tensor): shape (N, ). the sampled points of eigenvalues of the laplacian matrix.\n",
    "\n",
    "    Returns:\n",
    "        tensor: shape (T, N). the wave equation solution result for each time t and each sample point of the eigenvalues.\n",
    "    \"\"\"\n",
    "    lamsqrt = torch.sqrt(lam)\n",
    "    tlamsqrt = t.view(-1, 1) * lamsqrt\n",
    "    oper_x_res = torch.cos(tlamsqrt)\n",
    "    return oper_x_res\n",
    "\n",
    "def wave_eqn_oper_y(t, lam):\n",
    "    \"\"\"\n",
    "    the function for computing the wave equation solution's operator on y (initial speed) sin(sqrt(lam) * t) / sqrt(lam)\n",
    "    Note the t term is not needed for lam_0=0, because 1 equals to the limit of sin(a)/a at 0.\n",
    "\n",
    "    Args:\n",
    "        t (tensor): shape (T, ). the time points.\n",
    "        lam (tensor): shape (N, ). the sampled points of eigenvalues of the laplacian matrix.\n",
    "\n",
    "    Returns:\n",
    "        tensor: shape (T, N). the wave equation solution result for each time t and each sample point of the eigenvalues.\n",
    "    \"\"\"\n",
    "    lamsqrt = torch.sqrt(lam)\n",
    "    tlamsqrt = t.view(-1, 1) * lamsqrt\n",
    "    oper_y_res = torch.sin(tlamsqrt) / lamsqrt\n",
    "    return oper_y_res\n",
    "\n",
    "def get_cheby_coefs_heat(ts, degree, N=1000):\n",
    "    \"\"\"\n",
    "    get the Chebyshev polynomial coefficients of the heat equation.\n",
    "\n",
    "    Args:\n",
    "        ts (tensor): shape (T, ). the sample time points.\n",
    "        degree (int): the degree of the Chebyshev polynomials. (the min power is 0, the max power is degree - 1)\n",
    "        N (int, optional): the number of points to be used in the integration. Defaults to 1000.\n",
    "\n",
    "    Returns:\n",
    "        tensor: shape (T, k). the coefficients of the Chebyshev polynomials.\n",
    "    \"\"\"\n",
    "    return get_cheby_coefs(heat_eqn_oper, ts, degree, N=N)\n",
    "\n",
    "def get_cheby_coefs_wave(ts, degree, N=1000):\n",
    "    \"\"\"\n",
    "    get the Chebyshev polynomial coefficients of the wave equation.\n",
    "\n",
    "    Args:\n",
    "        ts (tensor): shape (T, ). the sample time points.\n",
    "        degree (int): the degree of the Chebyshev polynomials. (the min power is 0, the max power is degree - 1)\n",
    "        N (int, optional): the number of points to be used in the integration. Defaults to 1000.\n",
    "\n",
    "    Returns:\n",
    "        tuple: the coefficients of the Chebyshev polynomials.\n",
    "            the first element is the coefficients of the wave equation for x. shape (T, k)\n",
    "            the second element is the coefficients of the wave equation for y. shape (T, k)\n",
    "    \n",
    "    \"\"\"\n",
    "    return get_cheby_coefs(wave_eqn_oper_x, ts, degree, N=N), get_cheby_coefs(wave_eqn_oper_y, ts, degree, N=N)\n"
   ]
  },
  {
   "cell_type": "code",
   "execution_count": 27,
   "metadata": {},
   "outputs": [],
   "source": [
    "ts = torch.arange(6).float()\n",
    "coefs_ts = get_cheby_coefs_heat(ts, degree=10)"
   ]
  },
  {
   "cell_type": "code",
   "execution_count": 28,
   "metadata": {},
   "outputs": [
    {
     "data": {
      "text/plain": [
       "tensor([[ 1.0000e+00, -5.5909e-08,  4.8041e-08, -3.4571e-09,  5.9605e-08,\n",
       "         -8.1897e-08,  9.4175e-09, -1.2255e-07,  4.8637e-08, -7.2718e-09],\n",
       "        [ 4.6576e-01, -4.1582e-01,  9.9878e-02, -1.6311e-02,  2.0139e-03,\n",
       "         -1.9982e-04,  1.6554e-05, -1.3008e-06,  1.2726e-07, -8.8811e-09],\n",
       "        [ 3.0851e-01, -4.3054e-01,  1.8648e-01, -5.7582e-02,  1.3731e-02,\n",
       "         -2.6596e-03,  4.3313e-04, -6.0928e-05,  7.5526e-06, -8.2606e-07],\n",
       "        [ 2.4300e-01, -3.9365e-01,  2.2357e-01, -9.5567e-02,  3.2432e-02,\n",
       "         -9.0819e-03,  2.1591e-03, -4.4543e-04,  8.1077e-05, -1.3182e-05],\n",
       "        [ 2.0700e-01, -3.5750e-01,  2.3525e-01, -1.2225e-01,  5.1880e-02,\n",
       "         -1.8489e-02,  5.6582e-03, -1.5141e-03,  3.5940e-04, -7.6569e-05],\n",
       "        [ 1.8354e-01, -3.2794e-01,  2.3590e-01, -1.3922e-01,  6.8838e-02,\n",
       "         -2.9081e-02,  1.0677e-02, -3.4565e-03,  9.9884e-04, -2.6030e-04]])"
      ]
     },
     "execution_count": 28,
     "metadata": {},
     "output_type": "execute_result"
    }
   ],
   "source": [
    "coefs_ts"
   ]
  },
  {
   "cell_type": "code",
   "execution_count": 29,
   "metadata": {},
   "outputs": [
    {
     "data": {
      "text/plain": [
       "tensor([ 2.4300e-01, -3.9365e-01,  2.2357e-01, -9.5567e-02,  3.2432e-02,\n",
       "        -9.0819e-03,  2.1591e-03, -4.4543e-04,  8.1080e-05, -1.3185e-05])"
      ]
     },
     "execution_count": 29,
     "metadata": {},
     "output_type": "execute_result"
    }
   ],
   "source": [
    "coefs1"
   ]
  },
  {
   "cell_type": "code",
   "execution_count": 30,
   "metadata": {},
   "outputs": [
    {
     "data": {
      "text/plain": [
       "tensor([ 2.4300e-01, -3.9365e-01,  2.2357e-01, -9.5567e-02,  3.2432e-02,\n",
       "        -9.0819e-03,  2.1591e-03, -4.4543e-04,  8.1077e-05, -1.3182e-05])"
      ]
     },
     "execution_count": 30,
     "metadata": {},
     "output_type": "execute_result"
    }
   ],
   "source": [
    "coefs_ts[3, :]"
   ]
  },
  {
   "cell_type": "code",
   "execution_count": 31,
   "metadata": {},
   "outputs": [],
   "source": [
    "chebs = ChebyLayer(edge_index, edge_weight)\n",
    "yts = chebs(x, coefs_ts).squeeze()"
   ]
  },
  {
   "cell_type": "code",
   "execution_count": 32,
   "metadata": {},
   "outputs": [
    {
     "data": {
      "text/plain": [
       "tensor([[0.1516, 0.7480, 0.8134, 0.5539, 0.1741],\n",
       "        [0.2894, 0.6834, 0.6970, 0.6500, 0.1991],\n",
       "        [0.3322, 0.6759, 0.6608, 0.6637, 0.2164],\n",
       "        [0.3475, 0.6768, 0.6485, 0.6639, 0.2236],\n",
       "        [0.3536, 0.6782, 0.6440, 0.6627, 0.2260],\n",
       "        [0.3562, 0.6790, 0.6423, 0.6618, 0.2267]])"
      ]
     },
     "execution_count": 32,
     "metadata": {},
     "output_type": "execute_result"
    }
   ],
   "source": [
    "yts"
   ]
  },
  {
   "cell_type": "code",
   "execution_count": 33,
   "metadata": {},
   "outputs": [
    {
     "data": {
      "text/plain": [
       "tensor([0.1516, 0.7480, 0.8134, 0.5539, 0.1741])"
      ]
     },
     "execution_count": 33,
     "metadata": {},
     "output_type": "execute_result"
    }
   ],
   "source": [
    "x.squeeze()"
   ]
  },
  {
   "cell_type": "code",
   "execution_count": 34,
   "metadata": {},
   "outputs": [
    {
     "data": {
      "text/plain": [
       "tensor([0.3475, 0.6768, 0.6485, 0.6639, 0.2236])"
      ]
     },
     "execution_count": 34,
     "metadata": {},
     "output_type": "execute_result"
    }
   ],
   "source": [
    "y1"
   ]
  },
  {
   "cell_type": "code",
   "execution_count": 35,
   "metadata": {},
   "outputs": [
    {
     "data": {
      "text/plain": [
       "tensor([0.3475, 0.6768, 0.6485, 0.6639, 0.2236])"
      ]
     },
     "execution_count": 35,
     "metadata": {},
     "output_type": "execute_result"
    }
   ],
   "source": [
    "yts[3, :]"
   ]
  },
  {
   "cell_type": "markdown",
   "metadata": {},
   "source": [
    "## Test ChebyPolyLayer"
   ]
  },
  {
   "cell_type": "code",
   "execution_count": 36,
   "metadata": {},
   "outputs": [],
   "source": [
    "class ChebyPolyLayer(MessagePassing):\n",
    "    \"\"\"\n",
    "    Chebyshev polynomials as a custom message passing layer.\n",
    "    Pass edge_index and edge_weight to the forward method.\n",
    "    \"\"\"\n",
    "    def __init__(self, coefs=None):\n",
    "        \"\"\"\n",
    "        the coefs is fixed for the layer (which is determined by the equation as well as the sampling points)\n",
    "        can make more flexible by passing time points to forward method. computing the coefficients should'nt be slow.\n",
    "        Args:\n",
    "            coefs (tensor): shape (T, k). \n",
    "                k is the degree of the chebyshev polynomials.\n",
    "                T is the number of time points. t is the sample times.\n",
    "        \"\"\"\n",
    "        super().__init__(aggr=\"add\", node_dim=-3)  # \"Add\" aggregation.\n",
    "        self.coefs = coefs\n",
    "\n",
    "    def forward(self, edge_index, edge_weight, x, coefs=None):\n",
    "        \"\"\"Evaluate the chebyshev polynomials through recursive message passing.\n",
    "        coefs is 2 dimentional with the first dimension to be time points.\n",
    "\n",
    "        Args:\n",
    "            edge_index (tensor): shape (2, E). E is number of edges.\n",
    "            edge_weight (tensor, optional): shape (E, ).\n",
    "            x (tensor): shape (n, *, *). n is number of nodes.\n",
    "            coefs (tensor): shape (T, k). \n",
    "                k is the degree of the chebyshev polynomials.\n",
    "                T is the number of time points. t is the sample times.\n",
    "\n",
    "        Returns:\n",
    "            tensor: shape (T, n, *, *).\n",
    "        \"\"\"\n",
    "        if coefs is None: coefs = self.coefs\n",
    "        assert coefs is not None\n",
    "        k = coefs.size(1)\n",
    "        assert  k > 2\n",
    "        ## using symmetrically normalized laplacian so that the eigenvalues are within [0, 2]\n",
    "        ## see https://math.stackexchange.com/questions/2511544/largest-eigenvalue-of-a-normalized-graph-laplacian\n",
    "        laplacian_edge_index, laplacian_edge_weight = get_laplacian(\n",
    "            edge_index, edge_weight, normalization='sym')\n",
    "        T0 = x\n",
    "        out = coefs[:, 0].view(-1, 1, 1, 1) * T0\n",
    "        T1 = self.propagate(edge_index=laplacian_edge_index, x=x, edge_weight=laplacian_edge_weight)\n",
    "        out += coefs[:, 1].view(-1, 1, 1, 1) * T1\n",
    "\n",
    "        for i in range(2, k):\n",
    "            T2 = 2 * self.propagate(edge_index=laplacian_edge_index, x=T1, edge_weight=laplacian_edge_weight) - T0\n",
    "            out += coefs[:, i].view(-1, 1, 1, 1) * T2\n",
    "            T0, T1 = T1, T2\n",
    "\n",
    "        return out\n",
    "        # return self.propagate(edge_index=laplacian_edge_index, x=x, edge_weight=laplacian_edge_weight)\n",
    "\n",
    "    def message(self, x_j, edge_weight):\n",
    "        \"\"\"\n",
    "        edge_weight is the edge weight of the graph laplacian.\n",
    "        \"\"\"\n",
    "        # x_j has shape [E, out_channels]\n",
    "        # Step 4: Normalize node features.\n",
    "        return edge_weight.view(-1, 1, 1) * x_j\n",
    "\n",
    "    def update(self, aggr_out, x):\n",
    "        # aggr_out has shape [N, out_channels]\n",
    "        # Step 6: Return new node embeddings.\n",
    "        return aggr_out - x ## reparameterize lambda to range (-1, 1) (L_tilde = L - I, so L_tilde x = L x - x)\n"
   ]
  },
  {
   "cell_type": "code",
   "execution_count": 37,
   "metadata": {},
   "outputs": [],
   "source": [
    "import torch\n",
    "cpl = ChebyPolyLayer(coefs_ts)\n",
    "ycpl1 = cpl(edge_index, edge_weight, x).squeeze()\n",
    "cpl2 = ChebyPolyLayer()\n",
    "ycpl2 = cpl2(edge_index, edge_weight, x, coefs_ts).squeeze()"
   ]
  },
  {
   "cell_type": "code",
   "execution_count": 38,
   "metadata": {},
   "outputs": [
    {
     "name": "stdout",
     "output_type": "stream",
     "text": [
      "True\n",
      "True\n"
     ]
    }
   ],
   "source": [
    "print(torch.allclose(ycpl1, ycpl2))\n",
    "print(torch.allclose(ycpl1, yts))"
   ]
  },
  {
   "cell_type": "markdown",
   "metadata": {},
   "source": [
    "## Test x with shape (n, m)"
   ]
  },
  {
   "cell_type": "code",
   "execution_count": 39,
   "metadata": {},
   "outputs": [],
   "source": [
    "x = x.squeeze(-1)"
   ]
  },
  {
   "cell_type": "code",
   "execution_count": 40,
   "metadata": {},
   "outputs": [
    {
     "data": {
      "text/plain": [
       "torch.Size([5, 1])"
      ]
     },
     "execution_count": 40,
     "metadata": {},
     "output_type": "execute_result"
    }
   ],
   "source": [
    "x.size()"
   ]
  },
  {
   "cell_type": "code",
   "execution_count": 41,
   "metadata": {},
   "outputs": [],
   "source": [
    "class ChebyPolyLayer(MessagePassing):\n",
    "    \"\"\"\n",
    "    Chebyshev polynomials as a custom message passing layer.\n",
    "    Pass edge_index and edge_weight to the forward method.\n",
    "    \"\"\"\n",
    "    def __init__(self, coefs=None):\n",
    "        \"\"\"\n",
    "        the coefs is fixed for the layer (which is determined by the equation as well as the sampling points)\n",
    "        can make more flexible by passing time points to forward method. computing the coefficients should'nt be slow.\n",
    "        Args:\n",
    "            coefs (tensor): shape (T, k). \n",
    "                k is the degree of the chebyshev polynomials.\n",
    "                T is the number of time points. t is the sample times.\n",
    "        \"\"\"\n",
    "        super().__init__(aggr=\"add\", node_dim=-2)  # \"Add\" aggregation.\n",
    "        self.coefs = coefs\n",
    "\n",
    "    def forward(self, edge_index, edge_weight, x, coefs=None):\n",
    "        \"\"\"Evaluate the chebyshev polynomials through recursive message passing.\n",
    "        coefs is 2 dimentional with the first dimension to be time points.\n",
    "\n",
    "        Args:\n",
    "            edge_index (tensor): shape (2, E). E is number of edges.\n",
    "            edge_weight (tensor, optional): shape (E, ).\n",
    "            x (tensor): shape (n, m). n is number of nodes. m is number of features.\n",
    "            coefs (tensor): shape (T, k). defaults to None (use the coef specified at input).\n",
    "                k is the degree of the chebyshev polynomials.\n",
    "                T is the number of time points. t is the sample times.\n",
    "\n",
    "        Returns:\n",
    "            tensor: shape (T, n, m).\n",
    "        \"\"\"\n",
    "        if coefs is None: coefs = self.coefs\n",
    "        assert coefs is not None\n",
    "        k = coefs.size(1)\n",
    "        assert  k > 2\n",
    "        ## using symmetrically normalized laplacian so that the eigenvalues are within [0, 2]\n",
    "        ## see https://math.stackexchange.com/questions/2511544/largest-eigenvalue-of-a-normalized-graph-laplacian\n",
    "        laplacian_edge_index, laplacian_edge_weight = get_laplacian(\n",
    "            edge_index, edge_weight, normalization='sym')\n",
    "        T0 = x\n",
    "        out = coefs[:, 0].view(-1, 1, 1) * T0\n",
    "        T1 = self.propagate(edge_index=laplacian_edge_index, x=x, edge_weight=laplacian_edge_weight)\n",
    "        out += coefs[:, 1].view(-1, 1, 1) * T1\n",
    "\n",
    "        for i in range(2, k):\n",
    "            T2 = 2 * self.propagate(edge_index=laplacian_edge_index, x=T1, edge_weight=laplacian_edge_weight) - T0\n",
    "            out += coefs[:, i].view(-1, 1, 1) * T2\n",
    "            T0, T1 = T1, T2\n",
    "\n",
    "        return out\n",
    "        # return self.propagate(edge_index=laplacian_edge_index, x=x, edge_weight=laplacian_edge_weight)\n",
    "\n",
    "    def message(self, x_j, edge_weight):\n",
    "        \"\"\"\n",
    "        edge_weight is the edge weight of the graph laplacian.\n",
    "        \"\"\"\n",
    "        # x_j has shape [E, out_channels]\n",
    "        # Step 4: Normalize node features.\n",
    "        return edge_weight.view(-1, 1) * x_j\n",
    "\n",
    "    def update(self, aggr_out, x):\n",
    "        # aggr_out has shape [N, out_channels]\n",
    "        # Step 6: Return new node embeddings.\n",
    "        return aggr_out - x ## reparameterize lambda to range (-1, 1) (L_tilde = L - I, so L_tilde x = L x - x)\n"
   ]
  },
  {
   "cell_type": "code",
   "execution_count": 42,
   "metadata": {},
   "outputs": [],
   "source": [
    "cpl = ChebyPolyLayer(coefs_ts)\n",
    "ycpl3 = cpl(edge_index, edge_weight, x).squeeze()\n",
    "cpl2 = ChebyPolyLayer()\n",
    "ycpl4 = cpl2(edge_index, edge_weight, x, coefs_ts).squeeze()"
   ]
  },
  {
   "cell_type": "code",
   "execution_count": 43,
   "metadata": {},
   "outputs": [
    {
     "name": "stdout",
     "output_type": "stream",
     "text": [
      "True\n",
      "True\n"
     ]
    }
   ],
   "source": [
    "print(torch.allclose(ycpl1, ycpl3))\n",
    "print(torch.allclose(ycpl2, ycpl4))"
   ]
  },
  {
   "cell_type": "markdown",
   "metadata": {},
   "source": [
    "## Test batch"
   ]
  },
  {
   "cell_type": "code",
   "execution_count": 54,
   "metadata": {},
   "outputs": [],
   "source": [
    "x = torch.rand(5, 3)\n",
    "cpl = ChebyPolyLayer(coefs_ts)\n",
    "y_pred = cpl(edge_index, edge_weight, x).squeeze()"
   ]
  },
  {
   "cell_type": "code",
   "execution_count": 55,
   "metadata": {},
   "outputs": [
    {
     "name": "stderr",
     "output_type": "stream",
     "text": [
      "/gpfs/gibbs/pi/***/***/.conda_envs/pyg/lib/python3.9/site-packages/torch_geometric/deprecation.py:22: UserWarning: 'data.DataLoader' is deprecated, use 'loader.DataLoader' instead\n",
      "  warnings.warn(out)\n"
     ]
    },
    {
     "name": "stdout",
     "output_type": "stream",
     "text": [
      "Batched x tensor:\n",
      " tensor([[0.3960, 0.9554, 0.3522],\n",
      "        [0.6367, 0.1058, 0.3494],\n",
      "        [0.5748, 0.4182, 0.9883],\n",
      "        [0.2120, 0.0149, 0.4592],\n",
      "        [0.5234, 0.1553, 0.5321],\n",
      "        [0.3960, 0.9554, 0.3522],\n",
      "        [0.6367, 0.1058, 0.3494],\n",
      "        [0.5748, 0.4182, 0.9883],\n",
      "        [0.2120, 0.0149, 0.4592],\n",
      "        [0.5234, 0.1553, 0.5321]])\n",
      "Batched edge_index tensor:\n",
      " tensor([[0, 1, 1, 1, 2, 2, 3, 3, 3, 4, 5, 6, 6, 6, 7, 7, 8, 8, 8, 9],\n",
      "        [1, 0, 2, 3, 1, 3, 1, 2, 4, 3, 6, 5, 7, 8, 6, 8, 6, 7, 9, 8]])\n",
      "Batch vector:\n",
      " tensor([0, 0, 0, 0, 0, 1, 1, 1, 1, 1])\n"
     ]
    }
   ],
   "source": [
    "from torch_geometric.data import Data, DataLoader\n",
    "x = torch.rand(5, 3)\n",
    "# Create some example graphs\n",
    "graph1 = Data(x=x, edge_index=edge_index, edge_weight=edge_weight)\n",
    "graph2 = Data(x=x, edge_index=edge_index, edge_weight=edge_weight)\n",
    "\n",
    "# Create a list of Data objects\n",
    "data_list = [graph1, graph2]\n",
    "\n",
    "# Create a DataLoader with the list of Data objects and a specified batch size\n",
    "loader = DataLoader(data_list, batch_size=2)\n",
    "\n",
    "# Iterate through the DataLoader to get batches of graphs\n",
    "for batch in loader:\n",
    "    print(\"Batched x tensor:\\n\", batch.x)\n",
    "    print(\"Batched edge_index tensor:\\n\", batch.edge_index)\n",
    "    print(\"Batch vector:\\n\", batch.batch)"
   ]
  },
  {
   "cell_type": "code",
   "execution_count": 56,
   "metadata": {},
   "outputs": [
    {
     "data": {
      "text/plain": [
       "tensor([[[0.3960, 0.9554, 0.3522],\n",
       "         [0.6367, 0.1058, 0.3494],\n",
       "         [0.5748, 0.4182, 0.9883],\n",
       "         [0.2120, 0.0149, 0.4592],\n",
       "         [0.5234, 0.1553, 0.5321],\n",
       "         [0.3960, 0.9554, 0.3522],\n",
       "         [0.6367, 0.1058, 0.3494],\n",
       "         [0.5748, 0.4182, 0.9883],\n",
       "         [0.2120, 0.0149, 0.4592],\n",
       "         [0.5234, 0.1553, 0.5321]],\n",
       "\n",
       "        [[0.3434, 0.4475, 0.2947],\n",
       "         [0.5744, 0.3527, 0.5607],\n",
       "         [0.5000, 0.2761, 0.6943],\n",
       "         [0.4619, 0.1976, 0.6302],\n",
       "         [0.2766, 0.0868, 0.3223],\n",
       "         [0.3434, 0.4475, 0.2947],\n",
       "         [0.5744, 0.3527, 0.5607],\n",
       "         [0.5000, 0.2761, 0.6943],\n",
       "         [0.4619, 0.1976, 0.6302],\n",
       "         [0.2766, 0.0868, 0.3223]],\n",
       "\n",
       "        [[0.3140, 0.2869, 0.3077],\n",
       "         [0.5580, 0.3677, 0.6162],\n",
       "         [0.5029, 0.2807, 0.6335],\n",
       "         [0.5147, 0.2656, 0.6470],\n",
       "         [0.2099, 0.0844, 0.2582],\n",
       "         [0.3140, 0.2869, 0.3077],\n",
       "         [0.5580, 0.3677, 0.6162],\n",
       "         [0.5029, 0.2807, 0.6335],\n",
       "         [0.5147, 0.2656, 0.6470],\n",
       "         [0.2099, 0.0844, 0.2582]],\n",
       "\n",
       "        [[0.3002, 0.2256, 0.3225],\n",
       "         [0.5527, 0.3547, 0.6346],\n",
       "         [0.5101, 0.2954, 0.6192],\n",
       "         [0.5273, 0.2951, 0.6420],\n",
       "         [0.1907, 0.0927, 0.2347],\n",
       "         [0.3002, 0.2256, 0.3225],\n",
       "         [0.5527, 0.3547, 0.6346],\n",
       "         [0.5101, 0.2954, 0.6192],\n",
       "         [0.5273, 0.2951, 0.6420],\n",
       "         [0.1907, 0.0927, 0.2347]],\n",
       "\n",
       "        [[0.2941, 0.1990, 0.3317],\n",
       "         [0.5505, 0.3443, 0.6420],\n",
       "         [0.5141, 0.3043, 0.6149],\n",
       "         [0.5308, 0.3090, 0.6369],\n",
       "         [0.1850, 0.1000, 0.2249],\n",
       "         [0.2941, 0.1990, 0.3317],\n",
       "         [0.5505, 0.3443, 0.6420],\n",
       "         [0.5141, 0.3043, 0.6149],\n",
       "         [0.5308, 0.3090, 0.6369],\n",
       "         [0.1850, 0.1000, 0.2249]],\n",
       "\n",
       "        [[0.2914, 0.1867, 0.3366],\n",
       "         [0.5495, 0.3383, 0.6454],\n",
       "         [0.5159, 0.3088, 0.6132],\n",
       "         [0.5321, 0.3158, 0.6338],\n",
       "         [0.1833, 0.1048, 0.2204],\n",
       "         [0.2914, 0.1867, 0.3366],\n",
       "         [0.5495, 0.3383, 0.6454],\n",
       "         [0.5159, 0.3088, 0.6132],\n",
       "         [0.5321, 0.3158, 0.6338],\n",
       "         [0.1833, 0.1048, 0.2204]]])"
      ]
     },
     "execution_count": 56,
     "metadata": {},
     "output_type": "execute_result"
    }
   ],
   "source": [
    "batch = next(iter(loader))\n",
    "cpl = ChebyPolyLayer(coefs_ts)\n",
    "cpl(batch.edge_index, batch.edge_weight, batch.x)"
   ]
  },
  {
   "cell_type": "markdown",
   "metadata": {},
   "source": [
    "## Test Classifier"
   ]
  },
  {
   "cell_type": "code",
   "execution_count": 72,
   "metadata": {},
   "outputs": [],
   "source": [
    "from torch import nn\n",
    "import torch.nn.functional as F\n",
    "from experiments.cheby_poly_layer import ChebyPolyLayer\n",
    "from experiments.pde_layers import get_cheby_coefs_heat, get_cheby_coefs_wave\n",
    "from torch_geometric.nn import global_mean_pool\n",
    "\n",
    "class GraphClassifier(nn.Module):\n",
    "    def __init__(self, pde, ts, n_input, n_hidden, n_output, degree=100, c=1., N=1000):\n",
    "        super(GraphClassifier, self).__init__()\n",
    "        self.pde = pde\n",
    "        self.ts = ts\n",
    "        if pde == 'heat':\n",
    "            self.coefs = get_cheby_coefs_heat(ts, degree, c, N)\n",
    "        elif pde == 'wave':\n",
    "            self.coefs = get_cheby_coefs_wave(ts, degree, c, N)\n",
    "        else: raise ValueError('Invalid PDE type!')\n",
    "        self.pde_layer1 = ChebyPolyLayer(self.coefs)\n",
    "        self.lin1 = nn.Linear(n_input, n_hidden)\n",
    "        # self.pde_layer2 = ChebyPolyLayer(self.coefs)\n",
    "        # self.lin2 = nn.Linear(n_hidden, n_hidden)\n",
    "        self.classifier = nn.Sequential(\n",
    "            nn.Linear(n_hidden, n_hidden),\n",
    "            nn.ReLU(),\n",
    "            nn.Linear(n_hidden, n_output),\n",
    "            nn.Softmax(dim=1)\n",
    "        )\n",
    "\n",
    "    def forward(self, x, edge_index, edge_weight, batch):\n",
    "        x = self.pde_layer1(edge_index, edge_weight, x)\n",
    "        x = self.lin1(x)\n",
    "        x = F.relu(x)\n",
    "        # x = self.pde_layer2(edge_index, edge_weight, x)\n",
    "        # x = self.lin2(x)\n",
    "        # x = F.relu(x)\n",
    "        x = global_mean_pool(x, batch)\n",
    "        return x"
   ]
  },
  {
   "cell_type": "code",
   "execution_count": 75,
   "metadata": {},
   "outputs": [
    {
     "data": {
      "text/plain": [
       "tensor([[[0.0516, 0.5636, 0.0000, 0.0000, 0.0872],\n",
       "         [0.0516, 0.5636, 0.0000, 0.0000, 0.0872]],\n",
       "\n",
       "        [[0.0257, 0.5628, 0.0000, 0.0000, 0.0582],\n",
       "         [0.0257, 0.5628, 0.0000, 0.0000, 0.0582]],\n",
       "\n",
       "        [[0.0151, 0.5624, 0.0000, 0.0000, 0.0569],\n",
       "         [0.0151, 0.5624, 0.0000, 0.0000, 0.0569]],\n",
       "\n",
       "        [[0.0109, 0.5622, 0.0000, 0.0000, 0.0563],\n",
       "         [0.0109, 0.5622, 0.0000, 0.0000, 0.0563]],\n",
       "\n",
       "        [[0.0104, 0.5621, 0.0000, 0.0000, 0.0560],\n",
       "         [0.0104, 0.5621, 0.0000, 0.0000, 0.0560]],\n",
       "\n",
       "        [[0.0103, 0.5620, 0.0000, 0.0000, 0.0558],\n",
       "         [0.0103, 0.5620, 0.0000, 0.0000, 0.0558]]], grad_fn=<DivBackward0>)"
      ]
     },
     "execution_count": 75,
     "metadata": {},
     "output_type": "execute_result"
    }
   ],
   "source": [
    "heat_classifer = GraphClassifier('heat', ts, n_input=3, n_hidden=5, n_output=4)\n",
    "heat_classifer(batch.x, batch.edge_index, batch.edge_weight, batch.batch)"
   ]
  },
  {
   "cell_type": "code",
   "execution_count": null,
   "metadata": {},
   "outputs": [],
   "source": []
  }
 ],
 "metadata": {
  "kernelspec": {
   "display_name": "pyg",
   "language": "python",
   "name": "python3"
  },
  "language_info": {
   "codemirror_mode": {
    "name": "ipython",
    "version": 3
   },
   "file_extension": ".py",
   "mimetype": "text/x-python",
   "name": "python",
   "nbconvert_exporter": "python",
   "pygments_lexer": "ipython3",
   "version": "3.9.16"
  },
  "orig_nbformat": 4
 },
 "nbformat": 4,
 "nbformat_minor": 2
}
